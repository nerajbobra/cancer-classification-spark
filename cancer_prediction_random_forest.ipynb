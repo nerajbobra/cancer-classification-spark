{
 "cells": [
  {
   "cell_type": "markdown",
   "metadata": {},
   "source": [
    "# Cancer Prediction with PySpark using Random Forest"
   ]
  },
  {
   "cell_type": "markdown",
   "metadata": {},
   "source": [
    "In this project, we'll walk through using PySpark to solve a classification problem. Specifically, we'll develop a random forest model to predict if a tumor is benign or malignant based on numerous numerical observations. \n",
    "\n",
    "This project will be utilizing Spark's ML library, which is designed to be used with DataFrame structures and utilizes pipelines to make things efficient and concise. "
   ]
  },
  {
   "cell_type": "markdown",
   "metadata": {},
   "source": [
    "Let's import some stuff first"
   ]
  },
  {
   "cell_type": "code",
   "execution_count": 1,
   "metadata": {
    "collapsed": false
   },
   "outputs": [],
   "source": [
    "import numpy as np\n",
    "import pandas as pd\n",
    "import seaborn as sns\n",
    "from pyspark.sql.types import DoubleType\n",
    "from pyspark.sql.types import LongType\n",
    "from pyspark.sql.types import FloatType\n",
    "from pyspark.sql.functions import sum\n",
    "from pyspark.sql.functions import array\n",
    "from pyspark.sql.functions import udf\n",
    "from pyspark.ml.feature import OneHotEncoder, StringIndexer\n",
    "from pyspark.ml.feature import VectorIndexer, VectorAssembler\n",
    "from pyspark.ml.feature import StandardScaler\n",
    "from pyspark.ml.feature import VectorSlicer\n",
    "from pyspark.ml.classification import RandomForestClassifier\n",
    "from pyspark.ml.tuning import CrossValidator, ParamGridBuilder\n",
    "from pyspark.ml.evaluation import BinaryClassificationEvaluator\n",
    "from pyspark.ml import Pipeline, PipelineModel\n",
    "\n",
    "import matplotlib.pyplot as plt\n",
    "%matplotlib inline\n",
    "\n",
    "#the following lines allow the notebook to have multiple outputs for a single cell\n",
    "from IPython.core.interactiveshell import InteractiveShell\n",
    "InteractiveShell.ast_node_interactivity = 'all'"
   ]
  },
  {
   "cell_type": "markdown",
   "metadata": {},
   "source": [
    "This particular dataset consists of 10 distinct measurements, such as radius of tumor, texture of tumor, etc. For each feature, there is a mean, standard error, and \"worst\" or largest value. To keep things simple, I've just grabbed the mean values of each measurement.  \n",
    "\n",
    "For more details on the dataset, visit this link:  \n",
    "https://www.kaggle.com/uciml/breast-cancer-wisconsin-data  \n",
    "\n",
    "Note that I'm using PySpark with the databricks package to load csv data directly to a DataFrame. You should load the notebook with the following command:  \n",
    "PYSPARK_DRIVER_PYTHON=ipython PYSPARK_DRIVER_PYTHON_OPTS=\"notebook\" $SPARK_HOME/bin/pyspark --packages com.databricks:spark-csv_2.10:1.3.0  \n",
    "\n",
    "We'll also split the data into test/train and validation sets."
   ]
  },
  {
   "cell_type": "code",
   "execution_count": 2,
   "metadata": {
    "collapsed": false,
    "scrolled": false
   },
   "outputs": [
    {
     "name": "stdout",
     "output_type": "stream",
     "text": [
      "root\n",
      " |-- diagnosis: string (nullable = true)\n",
      " |-- radius_mean: double (nullable = true)\n",
      " |-- texture_mean: double (nullable = true)\n",
      " |-- perimeter_mean: double (nullable = true)\n",
      " |-- area_mean: double (nullable = true)\n",
      " |-- smoothness_mean: double (nullable = true)\n",
      " |-- compactness_mean: double (nullable = true)\n",
      " |-- concavity_mean: double (nullable = true)\n",
      " |-- concave points_mean: double (nullable = true)\n",
      " |-- symmetry_mean: double (nullable = true)\n",
      " |-- fractal_dimension_mean: double (nullable = true)\n",
      "\n"
     ]
    },
    {
     "data": {
      "text/html": [
       "<div>\n",
       "<table border=\"1\" class=\"dataframe\">\n",
       "  <thead>\n",
       "    <tr style=\"text-align: right;\">\n",
       "      <th></th>\n",
       "      <th>diagnosis</th>\n",
       "      <th>radius_mean</th>\n",
       "      <th>texture_mean</th>\n",
       "      <th>perimeter_mean</th>\n",
       "      <th>area_mean</th>\n",
       "      <th>smoothness_mean</th>\n",
       "      <th>compactness_mean</th>\n",
       "      <th>concavity_mean</th>\n",
       "      <th>concave points_mean</th>\n",
       "      <th>symmetry_mean</th>\n",
       "      <th>fractal_dimension_mean</th>\n",
       "    </tr>\n",
       "  </thead>\n",
       "  <tbody>\n",
       "    <tr>\n",
       "      <th>0</th>\n",
       "      <td>M</td>\n",
       "      <td>17.99</td>\n",
       "      <td>10.38</td>\n",
       "      <td>122.80</td>\n",
       "      <td>1001.0</td>\n",
       "      <td>0.11840</td>\n",
       "      <td>0.27760</td>\n",
       "      <td>0.3001</td>\n",
       "      <td>0.14710</td>\n",
       "      <td>0.2419</td>\n",
       "      <td>0.07871</td>\n",
       "    </tr>\n",
       "    <tr>\n",
       "      <th>1</th>\n",
       "      <td>M</td>\n",
       "      <td>20.57</td>\n",
       "      <td>17.77</td>\n",
       "      <td>132.90</td>\n",
       "      <td>1326.0</td>\n",
       "      <td>0.08474</td>\n",
       "      <td>0.07864</td>\n",
       "      <td>0.0869</td>\n",
       "      <td>0.07017</td>\n",
       "      <td>0.1812</td>\n",
       "      <td>0.05667</td>\n",
       "    </tr>\n",
       "    <tr>\n",
       "      <th>2</th>\n",
       "      <td>M</td>\n",
       "      <td>19.69</td>\n",
       "      <td>21.25</td>\n",
       "      <td>130.00</td>\n",
       "      <td>1203.0</td>\n",
       "      <td>0.10960</td>\n",
       "      <td>0.15990</td>\n",
       "      <td>0.1974</td>\n",
       "      <td>0.12790</td>\n",
       "      <td>0.2069</td>\n",
       "      <td>0.05999</td>\n",
       "    </tr>\n",
       "    <tr>\n",
       "      <th>3</th>\n",
       "      <td>M</td>\n",
       "      <td>11.42</td>\n",
       "      <td>20.38</td>\n",
       "      <td>77.58</td>\n",
       "      <td>386.1</td>\n",
       "      <td>0.14250</td>\n",
       "      <td>0.28390</td>\n",
       "      <td>0.2414</td>\n",
       "      <td>0.10520</td>\n",
       "      <td>0.2597</td>\n",
       "      <td>0.09744</td>\n",
       "    </tr>\n",
       "    <tr>\n",
       "      <th>4</th>\n",
       "      <td>M</td>\n",
       "      <td>20.29</td>\n",
       "      <td>14.34</td>\n",
       "      <td>135.10</td>\n",
       "      <td>1297.0</td>\n",
       "      <td>0.10030</td>\n",
       "      <td>0.13280</td>\n",
       "      <td>0.1980</td>\n",
       "      <td>0.10430</td>\n",
       "      <td>0.1809</td>\n",
       "      <td>0.05883</td>\n",
       "    </tr>\n",
       "  </tbody>\n",
       "</table>\n",
       "</div>"
      ],
      "text/plain": [
       "  diagnosis  radius_mean  texture_mean  perimeter_mean  area_mean  \\\n",
       "0         M        17.99         10.38          122.80     1001.0   \n",
       "1         M        20.57         17.77          132.90     1326.0   \n",
       "2         M        19.69         21.25          130.00     1203.0   \n",
       "3         M        11.42         20.38           77.58      386.1   \n",
       "4         M        20.29         14.34          135.10     1297.0   \n",
       "\n",
       "   smoothness_mean  compactness_mean  concavity_mean  concave points_mean  \\\n",
       "0          0.11840           0.27760          0.3001              0.14710   \n",
       "1          0.08474           0.07864          0.0869              0.07017   \n",
       "2          0.10960           0.15990          0.1974              0.12790   \n",
       "3          0.14250           0.28390          0.2414              0.10520   \n",
       "4          0.10030           0.13280          0.1980              0.10430   \n",
       "\n",
       "   symmetry_mean  fractal_dimension_mean  \n",
       "0         0.2419                 0.07871  \n",
       "1         0.1812                 0.05667  \n",
       "2         0.2069                 0.05999  \n",
       "3         0.2597                 0.09744  \n",
       "4         0.1809                 0.05883  "
      ]
     },
     "execution_count": 2,
     "metadata": {},
     "output_type": "execute_result"
    }
   ],
   "source": [
    "#load data as dataframe\n",
    "data = sqlContext.read.load('cancer.csv', format='com.databricks.spark.csv', header='true', inferSchema='true')\n",
    "\n",
    "#keep only the features with average values. don't keep id either\n",
    "data = data.select(['diagnosis', 'radius_mean', 'texture_mean', 'perimeter_mean', 'area_mean', 'smoothness_mean', \n",
    "                    'compactness_mean', 'concavity_mean', 'concave points_mean', 'symmetry_mean', \n",
    "                    'fractal_dimension_mean'])\n",
    "\n",
    "#display the structure\n",
    "data.printSchema()\n",
    "\n",
    "#randomly split the data into a test/train set and validation set (80%/20%)\n",
    "splits = data.randomSplit([0.8, 0.2])\n",
    "data_train = splits[0]\n",
    "data_val = splits[1]\n",
    "\n",
    "#take a look at some data\n",
    "data.limit(5).toPandas()"
   ]
  },
  {
   "cell_type": "markdown",
   "metadata": {},
   "source": [
    "Now we have to deal with our label, diagnosis, which is a string. Use StringIndexer to convert string-based categorical features to a numeric form."
   ]
  },
  {
   "cell_type": "code",
   "execution_count": 3,
   "metadata": {
    "collapsed": false,
    "scrolled": false
   },
   "outputs": [],
   "source": [
    "#convert diagnosis --> diagnosis_numeric. no one-hot encoding required because this can only have \n",
    "#two values (benign or malignant)\n",
    "stringIndexerDiagnosis = StringIndexer(inputCol='diagnosis', outputCol='label')"
   ]
  },
  {
   "cell_type": "markdown",
   "metadata": {
    "collapsed": true
   },
   "source": [
    "Ok, the next step is to combine all our features together into a feature vector. Note that there is no need to scale features here (ie, standardization is not required) as this is a tree based model. Call this feature vector \"features\", as the default name for the features vector for the random forest classifier is \"features\"."
   ]
  },
  {
   "cell_type": "code",
   "execution_count": 4,
   "metadata": {
    "collapsed": true
   },
   "outputs": [],
   "source": [
    "all_feats = ['radius_mean', 'texture_mean', 'perimeter_mean', 'area_mean', 'smoothness_mean', 'compactness_mean', \n",
    "             'concavity_mean', 'concave points_mean', 'symmetry_mean', 'fractal_dimension_mean']\n",
    "assemblerAllFeatures = VectorAssembler(inputCols=all_feats, outputCol='features')"
   ]
  },
  {
   "cell_type": "markdown",
   "metadata": {},
   "source": [
    "Let's put together everything we've done so far in a pipeline, and test the output on the training data."
   ]
  },
  {
   "cell_type": "code",
   "execution_count": 5,
   "metadata": {
    "collapsed": false
   },
   "outputs": [
    {
     "data": {
      "text/html": [
       "<div>\n",
       "<table border=\"1\" class=\"dataframe\">\n",
       "  <thead>\n",
       "    <tr style=\"text-align: right;\">\n",
       "      <th></th>\n",
       "      <th>diagnosis</th>\n",
       "      <th>radius_mean</th>\n",
       "      <th>texture_mean</th>\n",
       "      <th>perimeter_mean</th>\n",
       "      <th>area_mean</th>\n",
       "      <th>smoothness_mean</th>\n",
       "      <th>compactness_mean</th>\n",
       "      <th>concavity_mean</th>\n",
       "      <th>concave points_mean</th>\n",
       "      <th>symmetry_mean</th>\n",
       "      <th>fractal_dimension_mean</th>\n",
       "      <th>label</th>\n",
       "      <th>features</th>\n",
       "    </tr>\n",
       "  </thead>\n",
       "  <tbody>\n",
       "    <tr>\n",
       "      <th>0</th>\n",
       "      <td>B</td>\n",
       "      <td>7.691</td>\n",
       "      <td>25.44</td>\n",
       "      <td>48.34</td>\n",
       "      <td>170.4</td>\n",
       "      <td>0.08668</td>\n",
       "      <td>0.11990</td>\n",
       "      <td>0.09252</td>\n",
       "      <td>0.01364</td>\n",
       "      <td>0.2037</td>\n",
       "      <td>0.07751</td>\n",
       "      <td>0.0</td>\n",
       "      <td>[7.691, 25.44, 48.34, 170.4, 0.08668, 0.1199, ...</td>\n",
       "    </tr>\n",
       "    <tr>\n",
       "      <th>1</th>\n",
       "      <td>B</td>\n",
       "      <td>7.729</td>\n",
       "      <td>25.49</td>\n",
       "      <td>47.98</td>\n",
       "      <td>178.8</td>\n",
       "      <td>0.08098</td>\n",
       "      <td>0.04878</td>\n",
       "      <td>0.00000</td>\n",
       "      <td>0.00000</td>\n",
       "      <td>0.1870</td>\n",
       "      <td>0.07285</td>\n",
       "      <td>0.0</td>\n",
       "      <td>[7.729, 25.49, 47.98, 178.8, 0.08098, 0.04878,...</td>\n",
       "    </tr>\n",
       "    <tr>\n",
       "      <th>2</th>\n",
       "      <td>B</td>\n",
       "      <td>7.760</td>\n",
       "      <td>24.54</td>\n",
       "      <td>47.92</td>\n",
       "      <td>181.0</td>\n",
       "      <td>0.05263</td>\n",
       "      <td>0.04362</td>\n",
       "      <td>0.00000</td>\n",
       "      <td>0.00000</td>\n",
       "      <td>0.1587</td>\n",
       "      <td>0.05884</td>\n",
       "      <td>0.0</td>\n",
       "      <td>[7.76, 24.54, 47.92, 181.0, 0.05263, 0.04362, ...</td>\n",
       "    </tr>\n",
       "  </tbody>\n",
       "</table>\n",
       "</div>"
      ],
      "text/plain": [
       "  diagnosis  radius_mean  texture_mean  perimeter_mean  area_mean  \\\n",
       "0         B        7.691         25.44           48.34      170.4   \n",
       "1         B        7.729         25.49           47.98      178.8   \n",
       "2         B        7.760         24.54           47.92      181.0   \n",
       "\n",
       "   smoothness_mean  compactness_mean  concavity_mean  concave points_mean  \\\n",
       "0          0.08668           0.11990         0.09252              0.01364   \n",
       "1          0.08098           0.04878         0.00000              0.00000   \n",
       "2          0.05263           0.04362         0.00000              0.00000   \n",
       "\n",
       "   symmetry_mean  fractal_dimension_mean  label  \\\n",
       "0         0.2037                 0.07751    0.0   \n",
       "1         0.1870                 0.07285    0.0   \n",
       "2         0.1587                 0.05884    0.0   \n",
       "\n",
       "                                            features  \n",
       "0  [7.691, 25.44, 48.34, 170.4, 0.08668, 0.1199, ...  \n",
       "1  [7.729, 25.49, 47.98, 178.8, 0.08098, 0.04878,...  \n",
       "2  [7.76, 24.54, 47.92, 181.0, 0.05263, 0.04362, ...  "
      ]
     },
     "execution_count": 5,
     "metadata": {},
     "output_type": "execute_result"
    }
   ],
   "source": [
    "#define the pipeline\n",
    "pipeline = Pipeline(stages=[stringIndexerDiagnosis, assemblerAllFeatures])\n",
    "\n",
    "#fit the pipeline on the training data. what it means to \"fit\" the pipeline is to basically go through each of the \n",
    "#stages of the piepline and figure out the appropriate parameters. for example, in the stringIndexerDiagnosis stage, \n",
    "#it assigns benign=0 and malignant=1 (or vice versa)\n",
    "pipelineModel = pipeline.fit(data_train)\n",
    "\n",
    "#actually transform the data now that the pipeline is fit. note that the resultant features vector may be sparse\n",
    "output = pipelineModel.transform(data_train)\n",
    "\n",
    "#take a look at the output\n",
    "output.limit(3).toPandas()"
   ]
  },
  {
   "cell_type": "markdown",
   "metadata": {},
   "source": [
    "It's generally a good idea to take a look at the correlations between input features. This is a good first step at feature selection, in which we can remove any highly correlated (and therefore redundant) features. To do correlation analysis, select all the features and conver to a Pandas DataFrame."
   ]
  },
  {
   "cell_type": "code",
   "execution_count": 6,
   "metadata": {
    "collapsed": false
   },
   "outputs": [
    {
     "name": "stdout",
     "output_type": "stream",
     "text": [
      "correlation matrix:\n"
     ]
    },
    {
     "data": {
      "text/html": [
       "<div>\n",
       "<table border=\"1\" class=\"dataframe\">\n",
       "  <thead>\n",
       "    <tr style=\"text-align: right;\">\n",
       "      <th></th>\n",
       "      <th>radius_mean</th>\n",
       "      <th>texture_mean</th>\n",
       "      <th>perimeter_mean</th>\n",
       "      <th>area_mean</th>\n",
       "      <th>smoothness_mean</th>\n",
       "      <th>compactness_mean</th>\n",
       "      <th>concavity_mean</th>\n",
       "      <th>concave points_mean</th>\n",
       "      <th>symmetry_mean</th>\n",
       "      <th>fractal_dimension_mean</th>\n",
       "    </tr>\n",
       "  </thead>\n",
       "  <tbody>\n",
       "    <tr>\n",
       "      <th>radius_mean</th>\n",
       "      <td>1.000000</td>\n",
       "      <td>0.359657</td>\n",
       "      <td>0.997695</td>\n",
       "      <td>0.987078</td>\n",
       "      <td>0.155305</td>\n",
       "      <td>0.500692</td>\n",
       "      <td>0.681405</td>\n",
       "      <td>0.818004</td>\n",
       "      <td>0.167295</td>\n",
       "      <td>-0.296278</td>\n",
       "    </tr>\n",
       "    <tr>\n",
       "      <th>texture_mean</th>\n",
       "      <td>0.359657</td>\n",
       "      <td>1.000000</td>\n",
       "      <td>0.364246</td>\n",
       "      <td>0.355019</td>\n",
       "      <td>-0.022673</td>\n",
       "      <td>0.244715</td>\n",
       "      <td>0.318619</td>\n",
       "      <td>0.317305</td>\n",
       "      <td>0.060946</td>\n",
       "      <td>-0.071381</td>\n",
       "    </tr>\n",
       "    <tr>\n",
       "      <th>perimeter_mean</th>\n",
       "      <td>0.997695</td>\n",
       "      <td>0.364246</td>\n",
       "      <td>1.000000</td>\n",
       "      <td>0.986239</td>\n",
       "      <td>0.195223</td>\n",
       "      <td>0.553375</td>\n",
       "      <td>0.722670</td>\n",
       "      <td>0.848153</td>\n",
       "      <td>0.204963</td>\n",
       "      <td>-0.243678</td>\n",
       "    </tr>\n",
       "    <tr>\n",
       "      <th>area_mean</th>\n",
       "      <td>0.987078</td>\n",
       "      <td>0.355019</td>\n",
       "      <td>0.986239</td>\n",
       "      <td>1.000000</td>\n",
       "      <td>0.163579</td>\n",
       "      <td>0.493457</td>\n",
       "      <td>0.689762</td>\n",
       "      <td>0.817949</td>\n",
       "      <td>0.174611</td>\n",
       "      <td>-0.268104</td>\n",
       "    </tr>\n",
       "    <tr>\n",
       "      <th>smoothness_mean</th>\n",
       "      <td>0.155305</td>\n",
       "      <td>-0.022673</td>\n",
       "      <td>0.195223</td>\n",
       "      <td>0.163579</td>\n",
       "      <td>1.000000</td>\n",
       "      <td>0.676991</td>\n",
       "      <td>0.535203</td>\n",
       "      <td>0.557821</td>\n",
       "      <td>0.572308</td>\n",
       "      <td>0.613385</td>\n",
       "    </tr>\n",
       "    <tr>\n",
       "      <th>compactness_mean</th>\n",
       "      <td>0.500692</td>\n",
       "      <td>0.244715</td>\n",
       "      <td>0.553375</td>\n",
       "      <td>0.493457</td>\n",
       "      <td>0.676991</td>\n",
       "      <td>1.000000</td>\n",
       "      <td>0.889785</td>\n",
       "      <td>0.838213</td>\n",
       "      <td>0.634319</td>\n",
       "      <td>0.587738</td>\n",
       "    </tr>\n",
       "    <tr>\n",
       "      <th>concavity_mean</th>\n",
       "      <td>0.681405</td>\n",
       "      <td>0.318619</td>\n",
       "      <td>0.722670</td>\n",
       "      <td>0.689762</td>\n",
       "      <td>0.535203</td>\n",
       "      <td>0.889785</td>\n",
       "      <td>1.000000</td>\n",
       "      <td>0.930081</td>\n",
       "      <td>0.538885</td>\n",
       "      <td>0.356105</td>\n",
       "    </tr>\n",
       "    <tr>\n",
       "      <th>concave points_mean</th>\n",
       "      <td>0.818004</td>\n",
       "      <td>0.317305</td>\n",
       "      <td>0.848153</td>\n",
       "      <td>0.817949</td>\n",
       "      <td>0.557821</td>\n",
       "      <td>0.838213</td>\n",
       "      <td>0.930081</td>\n",
       "      <td>1.000000</td>\n",
       "      <td>0.488991</td>\n",
       "      <td>0.197223</td>\n",
       "    </tr>\n",
       "    <tr>\n",
       "      <th>symmetry_mean</th>\n",
       "      <td>0.167295</td>\n",
       "      <td>0.060946</td>\n",
       "      <td>0.204963</td>\n",
       "      <td>0.174611</td>\n",
       "      <td>0.572308</td>\n",
       "      <td>0.634319</td>\n",
       "      <td>0.538885</td>\n",
       "      <td>0.488991</td>\n",
       "      <td>1.000000</td>\n",
       "      <td>0.510457</td>\n",
       "    </tr>\n",
       "    <tr>\n",
       "      <th>fractal_dimension_mean</th>\n",
       "      <td>-0.296278</td>\n",
       "      <td>-0.071381</td>\n",
       "      <td>-0.243678</td>\n",
       "      <td>-0.268104</td>\n",
       "      <td>0.613385</td>\n",
       "      <td>0.587738</td>\n",
       "      <td>0.356105</td>\n",
       "      <td>0.197223</td>\n",
       "      <td>0.510457</td>\n",
       "      <td>1.000000</td>\n",
       "    </tr>\n",
       "  </tbody>\n",
       "</table>\n",
       "</div>"
      ],
      "text/plain": [
       "                        radius_mean  texture_mean  perimeter_mean  area_mean  \\\n",
       "radius_mean                1.000000      0.359657        0.997695   0.987078   \n",
       "texture_mean               0.359657      1.000000        0.364246   0.355019   \n",
       "perimeter_mean             0.997695      0.364246        1.000000   0.986239   \n",
       "area_mean                  0.987078      0.355019        0.986239   1.000000   \n",
       "smoothness_mean            0.155305     -0.022673        0.195223   0.163579   \n",
       "compactness_mean           0.500692      0.244715        0.553375   0.493457   \n",
       "concavity_mean             0.681405      0.318619        0.722670   0.689762   \n",
       "concave points_mean        0.818004      0.317305        0.848153   0.817949   \n",
       "symmetry_mean              0.167295      0.060946        0.204963   0.174611   \n",
       "fractal_dimension_mean    -0.296278     -0.071381       -0.243678  -0.268104   \n",
       "\n",
       "                        smoothness_mean  compactness_mean  concavity_mean  \\\n",
       "radius_mean                    0.155305          0.500692        0.681405   \n",
       "texture_mean                  -0.022673          0.244715        0.318619   \n",
       "perimeter_mean                 0.195223          0.553375        0.722670   \n",
       "area_mean                      0.163579          0.493457        0.689762   \n",
       "smoothness_mean                1.000000          0.676991        0.535203   \n",
       "compactness_mean               0.676991          1.000000        0.889785   \n",
       "concavity_mean                 0.535203          0.889785        1.000000   \n",
       "concave points_mean            0.557821          0.838213        0.930081   \n",
       "symmetry_mean                  0.572308          0.634319        0.538885   \n",
       "fractal_dimension_mean         0.613385          0.587738        0.356105   \n",
       "\n",
       "                        concave points_mean  symmetry_mean  \\\n",
       "radius_mean                        0.818004       0.167295   \n",
       "texture_mean                       0.317305       0.060946   \n",
       "perimeter_mean                     0.848153       0.204963   \n",
       "area_mean                          0.817949       0.174611   \n",
       "smoothness_mean                    0.557821       0.572308   \n",
       "compactness_mean                   0.838213       0.634319   \n",
       "concavity_mean                     0.930081       0.538885   \n",
       "concave points_mean                1.000000       0.488991   \n",
       "symmetry_mean                      0.488991       1.000000   \n",
       "fractal_dimension_mean             0.197223       0.510457   \n",
       "\n",
       "                        fractal_dimension_mean  \n",
       "radius_mean                          -0.296278  \n",
       "texture_mean                         -0.071381  \n",
       "perimeter_mean                       -0.243678  \n",
       "area_mean                            -0.268104  \n",
       "smoothness_mean                       0.613385  \n",
       "compactness_mean                      0.587738  \n",
       "concavity_mean                        0.356105  \n",
       "concave points_mean                   0.197223  \n",
       "symmetry_mean                         0.510457  \n",
       "fractal_dimension_mean                1.000000  "
      ]
     },
     "execution_count": 6,
     "metadata": {},
     "output_type": "execute_result"
    },
    {
     "data": {
      "text/plain": [
       "<matplotlib.axes._subplots.AxesSubplot at 0x101ca2850>"
      ]
     },
     "execution_count": 6,
     "metadata": {},
     "output_type": "execute_result"
    },
    {
     "data": {
      "image/png": "[encoded data removed]",
      "text/plain": [
       "<matplotlib.figure.Figure at 0x10bc72910>"
      ]
     },
     "metadata": {},
     "output_type": "display_data"
    }
   ],
   "source": [
    "#note: if the data set is large, you should limit the number of samples before converting to pandas\n",
    "cont_feats = data_train.select(all_feats).toPandas()\n",
    "\n",
    "#compute the correlation matrix\n",
    "corr = cont_feats.corr()\n",
    "print 'correlation matrix:'\n",
    "corr\n",
    "\n",
    "#plot the correlation matrix as a heatmap \n",
    "f, ax = plt.subplots(figsize=(11, 9))\n",
    "cmap = sns.diverging_palette(220, 10, as_cmap=True)\n",
    "sns.heatmap(corr, cmap=cmap, ax=ax)\n",
    "plt.show()"
   ]
  },
  {
   "cell_type": "markdown",
   "metadata": {},
   "source": [
    "It turns out that there are many highly correlated features. Looking across all the columns in each row of the heat map, the biggest offenders based are radius_mean, perimeter_mean, area_mean, concave points_mean, and concavity_mean. These features are highly correlated with multiple other features.  \n",
    "\n",
    "Let's update all_feats to exclude those features, and then take a look at the correlations again."
   ]
  },
  {
   "cell_type": "code",
   "execution_count": 7,
   "metadata": {
    "collapsed": false
   },
   "outputs": [
    {
     "name": "stdout",
     "output_type": "stream",
     "text": [
      "correlation matrix:\n"
     ]
    },
    {
     "data": {
      "text/html": [
       "<div>\n",
       "<table border=\"1\" class=\"dataframe\">\n",
       "  <thead>\n",
       "    <tr style=\"text-align: right;\">\n",
       "      <th></th>\n",
       "      <th>texture_mean</th>\n",
       "      <th>smoothness_mean</th>\n",
       "      <th>compactness_mean</th>\n",
       "      <th>symmetry_mean</th>\n",
       "      <th>fractal_dimension_mean</th>\n",
       "    </tr>\n",
       "  </thead>\n",
       "  <tbody>\n",
       "    <tr>\n",
       "      <th>texture_mean</th>\n",
       "      <td>1.000000</td>\n",
       "      <td>-0.022673</td>\n",
       "      <td>0.244715</td>\n",
       "      <td>0.060946</td>\n",
       "      <td>-0.071381</td>\n",
       "    </tr>\n",
       "    <tr>\n",
       "      <th>smoothness_mean</th>\n",
       "      <td>-0.022673</td>\n",
       "      <td>1.000000</td>\n",
       "      <td>0.676991</td>\n",
       "      <td>0.572308</td>\n",
       "      <td>0.613385</td>\n",
       "    </tr>\n",
       "    <tr>\n",
       "      <th>compactness_mean</th>\n",
       "      <td>0.244715</td>\n",
       "      <td>0.676991</td>\n",
       "      <td>1.000000</td>\n",
       "      <td>0.634319</td>\n",
       "      <td>0.587738</td>\n",
       "    </tr>\n",
       "    <tr>\n",
       "      <th>symmetry_mean</th>\n",
       "      <td>0.060946</td>\n",
       "      <td>0.572308</td>\n",
       "      <td>0.634319</td>\n",
       "      <td>1.000000</td>\n",
       "      <td>0.510457</td>\n",
       "    </tr>\n",
       "    <tr>\n",
       "      <th>fractal_dimension_mean</th>\n",
       "      <td>-0.071381</td>\n",
       "      <td>0.613385</td>\n",
       "      <td>0.587738</td>\n",
       "      <td>0.510457</td>\n",
       "      <td>1.000000</td>\n",
       "    </tr>\n",
       "  </tbody>\n",
       "</table>\n",
       "</div>"
      ],
      "text/plain": [
       "                        texture_mean  smoothness_mean  compactness_mean  \\\n",
       "texture_mean                1.000000        -0.022673          0.244715   \n",
       "smoothness_mean            -0.022673         1.000000          0.676991   \n",
       "compactness_mean            0.244715         0.676991          1.000000   \n",
       "symmetry_mean               0.060946         0.572308          0.634319   \n",
       "fractal_dimension_mean     -0.071381         0.613385          0.587738   \n",
       "\n",
       "                        symmetry_mean  fractal_dimension_mean  \n",
       "texture_mean                 0.060946               -0.071381  \n",
       "smoothness_mean              0.572308                0.613385  \n",
       "compactness_mean             0.634319                0.587738  \n",
       "symmetry_mean                1.000000                0.510457  \n",
       "fractal_dimension_mean       0.510457                1.000000  "
      ]
     },
     "execution_count": 7,
     "metadata": {},
     "output_type": "execute_result"
    },
    {
     "data": {
      "text/plain": [
       "<matplotlib.axes._subplots.AxesSubplot at 0x10bbc1ed0>"
      ]
     },
     "execution_count": 7,
     "metadata": {},
     "output_type": "execute_result"
    },
    {
     "data": {
      "image/png": "[encoded data removed]",
      "text/plain": [
       "<matplotlib.figure.Figure at 0x10bc72310>"
      ]
     },
     "metadata": {},
     "output_type": "display_data"
    }
   ],
   "source": [
    "#exclude the highly correlated features\n",
    "all_feats = ['texture_mean', 'smoothness_mean', 'compactness_mean',  'symmetry_mean', 'fractal_dimension_mean']\n",
    "cont_feats = data_train.select(all_feats).toPandas()\n",
    "\n",
    "#compute the correlation matrix\n",
    "corr = cont_feats.corr()\n",
    "print 'correlation matrix:'\n",
    "corr\n",
    "\n",
    "#plot the correlation matrix as a heatmap \n",
    "f, ax = plt.subplots(figsize=(11, 9))\n",
    "cmap = sns.diverging_palette(220, 10, as_cmap=True)\n",
    "sns.heatmap(corr, cmap=cmap, ax=ax)\n",
    "plt.show()"
   ]
  },
  {
   "cell_type": "markdown",
   "metadata": {},
   "source": [
    "That looks a lot better. There are still some correlated features, but much less so than originally.  \n",
    "\n",
    "Now, let's put everything together. Define a new feature assembler that only assembles the non-correlated features. Define a random forest classifier with default parameters, and put everything together in a pipeline."
   ]
  },
  {
   "cell_type": "code",
   "execution_count": 8,
   "metadata": {
    "collapsed": false,
    "scrolled": false
   },
   "outputs": [],
   "source": [
    "#define a new assembler on only the non-correlated features\n",
    "assemblerAllFeatures = VectorAssembler(inputCols=all_feats, outputCol='features')\n",
    "\n",
    "model = RandomForestClassifier()\n",
    "\n",
    "#chain everything together into a pipeline\n",
    "pipeline = Pipeline(stages=[stringIndexerDiagnosis, assemblerAllFeatures, model])"
   ]
  },
  {
   "cell_type": "markdown",
   "metadata": {},
   "source": [
    "Note that we didn't define any of the parameters for the random forest classifier. As it turns out, there are two parameters that need to be optimized: the max depth of the trees, and the number of trees in the random forest. To identify the optimal values for these parameters, use the CrossValidator.  \n",
    "\n",
    "I've set up the max depth to range from 1 to 10, and the number of trees to range from 5 to 70 in increments of 5. The metric used to determine the best performing model will be the area under the ROC, and the number of folds of cross validation are set to 3."
   ]
  },
  {
   "cell_type": "code",
   "execution_count": 12,
   "metadata": {
    "collapsed": true
   },
   "outputs": [],
   "source": [
    "#define a ParamGridBuilder to determine optimal values of elasticNetParam (range [0,1]) and regParam (typically \n",
    "#ranges between 0 and 1). we'll sweep through 0 to 1 in increments of 0.1 for both parameters\n",
    "paramGrid = ParamGridBuilder().addGrid(model.maxDepth, range(1,11)) \\\n",
    "                              .addGrid(model.numTrees, range(5,75,5)).build()\n",
    "\n",
    "#define the RMSE to be the evaluation metric for model performance\n",
    "evaluator = BinaryClassificationEvaluator(metricName='areaUnderROC')\n",
    "\n",
    "#set up 3-fold cross validation to determine the optimal depth parameter (this can be set higher for potentially \n",
    "#better results)\n",
    "crossval = CrossValidator(estimator=pipeline, estimatorParamMaps=paramGrid, evaluator=evaluator, numFolds=3)\n",
    "\n",
    "#do the actual cross validation on the training data\n",
    "CV_model = crossval.fit(data_train)"
   ]
  },
  {
   "cell_type": "markdown",
   "metadata": {},
   "source": [
    "The CrossValidator iterated through every possible combination of maxDepth and numTrees, developed a model for each combination of values, and evaluated each model's performance based on the area under the ROC. The best performing model was saved and can now be accessed from the CV_model object. Let's take a closer look at it."
   ]
  },
  {
   "cell_type": "code",
   "execution_count": 13,
   "metadata": {
    "collapsed": false
   },
   "outputs": [
    {
     "name": "stdout",
     "output_type": "stream",
     "text": [
      "number of trees: 45\n"
     ]
    },
    {
     "data": {
      "text/plain": [
       "[DecisionTreeClassificationModel (uid=dtc_59ddb99f004d) of depth 7 with 69 nodes,\n",
       " DecisionTreeClassificationModel (uid=dtc_6057e4a41f15) of depth 7 with 77 nodes,\n",
       " DecisionTreeClassificationModel (uid=dtc_fa2d9296e5a6) of depth 7 with 73 nodes,\n",
       " DecisionTreeClassificationModel (uid=dtc_ae57c06defa3) of depth 7 with 63 nodes,\n",
       " DecisionTreeClassificationModel (uid=dtc_23dbea96d070) of depth 7 with 63 nodes,\n",
       " DecisionTreeClassificationModel (uid=dtc_c0d12ee7c54b) of depth 7 with 83 nodes,\n",
       " DecisionTreeClassificationModel (uid=dtc_d43191e48a61) of depth 7 with 75 nodes,\n",
       " DecisionTreeClassificationModel (uid=dtc_fb60dc3c7e57) of depth 7 with 67 nodes,\n",
       " DecisionTreeClassificationModel (uid=dtc_b4ac7f569fee) of depth 7 with 81 nodes,\n",
       " DecisionTreeClassificationModel (uid=dtc_bb12cd205749) of depth 7 with 67 nodes,\n",
       " DecisionTreeClassificationModel (uid=dtc_8eddaf6774eb) of depth 7 with 61 nodes,\n",
       " DecisionTreeClassificationModel (uid=dtc_25041af99c94) of depth 7 with 83 nodes,\n",
       " DecisionTreeClassificationModel (uid=dtc_94878c0aaa66) of depth 7 with 71 nodes,\n",
       " DecisionTreeClassificationModel (uid=dtc_53e01393d0d8) of depth 7 with 65 nodes,\n",
       " DecisionTreeClassificationModel (uid=dtc_27b51e4394c0) of depth 7 with 77 nodes,\n",
       " DecisionTreeClassificationModel (uid=dtc_a3f14e7d0765) of depth 7 with 85 nodes,\n",
       " DecisionTreeClassificationModel (uid=dtc_9acda8045e84) of depth 7 with 71 nodes,\n",
       " DecisionTreeClassificationModel (uid=dtc_a507bcd44d95) of depth 7 with 75 nodes,\n",
       " DecisionTreeClassificationModel (uid=dtc_c12663eff115) of depth 7 with 79 nodes,\n",
       " DecisionTreeClassificationModel (uid=dtc_2153dcff46dc) of depth 7 with 65 nodes,\n",
       " DecisionTreeClassificationModel (uid=dtc_9f0ee8efc40c) of depth 7 with 65 nodes,\n",
       " DecisionTreeClassificationModel (uid=dtc_142d373b97d9) of depth 7 with 59 nodes,\n",
       " DecisionTreeClassificationModel (uid=dtc_52e9fb04cfd9) of depth 7 with 83 nodes,\n",
       " DecisionTreeClassificationModel (uid=dtc_e59f7a67a9bd) of depth 7 with 75 nodes,\n",
       " DecisionTreeClassificationModel (uid=dtc_cf2ab9ffa2d3) of depth 7 with 63 nodes,\n",
       " DecisionTreeClassificationModel (uid=dtc_0e22ea78ae9f) of depth 7 with 69 nodes,\n",
       " DecisionTreeClassificationModel (uid=dtc_07b24a6ae1c0) of depth 7 with 83 nodes,\n",
       " DecisionTreeClassificationModel (uid=dtc_2f3e1dda4c3b) of depth 7 with 73 nodes,\n",
       " DecisionTreeClassificationModel (uid=dtc_976f5537d71d) of depth 7 with 73 nodes,\n",
       " DecisionTreeClassificationModel (uid=dtc_d51669a518b8) of depth 7 with 63 nodes,\n",
       " DecisionTreeClassificationModel (uid=dtc_b2ddbb0104d7) of depth 7 with 77 nodes,\n",
       " DecisionTreeClassificationModel (uid=dtc_aa2b5ca9b331) of depth 7 with 67 nodes,\n",
       " DecisionTreeClassificationModel (uid=dtc_8e2065cdd69d) of depth 7 with 87 nodes,\n",
       " DecisionTreeClassificationModel (uid=dtc_090448814dc2) of depth 7 with 83 nodes,\n",
       " DecisionTreeClassificationModel (uid=dtc_f9d157794178) of depth 7 with 79 nodes,\n",
       " DecisionTreeClassificationModel (uid=dtc_244bc654a571) of depth 7 with 73 nodes,\n",
       " DecisionTreeClassificationModel (uid=dtc_bf7826ab784a) of depth 7 with 81 nodes,\n",
       " DecisionTreeClassificationModel (uid=dtc_b9489bf90008) of depth 7 with 89 nodes,\n",
       " DecisionTreeClassificationModel (uid=dtc_c565466779f0) of depth 7 with 75 nodes,\n",
       " DecisionTreeClassificationModel (uid=dtc_80e66c42528a) of depth 7 with 83 nodes,\n",
       " DecisionTreeClassificationModel (uid=dtc_a6495f125c0a) of depth 7 with 69 nodes,\n",
       " DecisionTreeClassificationModel (uid=dtc_40b5bddee06d) of depth 7 with 77 nodes,\n",
       " DecisionTreeClassificationModel (uid=dtc_53012f5c21f1) of depth 7 with 77 nodes,\n",
       " DecisionTreeClassificationModel (uid=dtc_730526fb8714) of depth 7 with 67 nodes,\n",
       " DecisionTreeClassificationModel (uid=dtc_7541f7a59360) of depth 7 with 67 nodes]"
      ]
     },
     "execution_count": 13,
     "metadata": {},
     "output_type": "execute_result"
    }
   ],
   "source": [
    "#get the best model\n",
    "best_model = CV_model.bestModel\n",
    "\n",
    "#for the best model, print out each tree in the random forest and list its depth and number of nodes\n",
    "print ('number of trees: %i') % (len(best_model.stages[-1].trees))\n",
    "best_model.stages[-1].trees"
   ]
  },
  {
   "cell_type": "markdown",
   "metadata": {},
   "source": [
    "From the above output, we can see that the optimal max depth was identified to be 7 and the number of trees used was 45.  \n",
    "\n",
    "Ok, so now let's evaluate our model. We can define a UDF that gives us our prediction based on the probability score of the random forest. The random forest model outputs a column of type vector which is [probability_class0, probability_class1]. So we can just define a probability threshold and output a new column containing the threshold-based prediction.  \n",
    "\n",
    "We can also define some UDFs to calculate the true positives, true negatives, false positives, and false negatives. These will be used to calculate the precision, recall, and F1 score."
   ]
  },
  {
   "cell_type": "code",
   "execution_count": 14,
   "metadata": {
    "collapsed": true
   },
   "outputs": [],
   "source": [
    "#define a UDF that will take the prediction probabilities, and return the predicted class according to some \n",
    "#defined threshold. vector is defined as [probability_class0, probability_class1] where class0 is benign and \n",
    "#class1 is malignant. let's set our probability threshold to a simple value of 0.5 for now.\n",
    "prob_thresh = 0.5\n",
    "prediction_udf = udf(lambda vector: float(0. if vector[0] > prob_thresh else 1.), FloatType())\n",
    "\n",
    "#define UDF functions to calculate TP, TN, FP, FN\n",
    "TP_udf = udf(lambda arr: int(1 if int(arr[0]) == 1 and int(arr[1]) == 1 else 0), LongType())\n",
    "TN_udf = udf(lambda arr: int(1 if int(arr[0]) == 0 and int(arr[1]) == 0 else 0), LongType())\n",
    "FP_udf = udf(lambda arr: int(1 if int(arr[0]) == 0 and int(arr[1]) == 1 else 0), LongType())\n",
    "FN_udf = udf(lambda arr: int(1 if int(arr[0]) == 1 and int(arr[1]) == 0 else 0), LongType())"
   ]
  },
  {
   "cell_type": "markdown",
   "metadata": {},
   "source": [
    "Let's apply the best model to our training data to see it's output probabilities. Let's then get our predictions based on a probability threshold of 0.5, and calculate precision, recall, and F1 score."
   ]
  },
  {
   "cell_type": "code",
   "execution_count": 15,
   "metadata": {
    "collapsed": false,
    "scrolled": false
   },
   "outputs": [
    {
     "data": {
      "text/html": [
       "<div>\n",
       "<table border=\"1\" class=\"dataframe\">\n",
       "  <thead>\n",
       "    <tr style=\"text-align: right;\">\n",
       "      <th></th>\n",
       "      <th>diagnosis</th>\n",
       "      <th>radius_mean</th>\n",
       "      <th>texture_mean</th>\n",
       "      <th>perimeter_mean</th>\n",
       "      <th>area_mean</th>\n",
       "      <th>smoothness_mean</th>\n",
       "      <th>compactness_mean</th>\n",
       "      <th>concavity_mean</th>\n",
       "      <th>concave points_mean</th>\n",
       "      <th>symmetry_mean</th>\n",
       "      <th>fractal_dimension_mean</th>\n",
       "      <th>label</th>\n",
       "      <th>features</th>\n",
       "      <th>rawPrediction</th>\n",
       "      <th>probability</th>\n",
       "      <th>prediction</th>\n",
       "      <th>TP</th>\n",
       "      <th>TN</th>\n",
       "      <th>FP</th>\n",
       "      <th>FN</th>\n",
       "    </tr>\n",
       "  </thead>\n",
       "  <tbody>\n",
       "    <tr>\n",
       "      <th>0</th>\n",
       "      <td>B</td>\n",
       "      <td>7.691</td>\n",
       "      <td>25.44</td>\n",
       "      <td>48.34</td>\n",
       "      <td>170.4</td>\n",
       "      <td>0.08668</td>\n",
       "      <td>0.11990</td>\n",
       "      <td>0.09252</td>\n",
       "      <td>0.01364</td>\n",
       "      <td>0.2037</td>\n",
       "      <td>0.07751</td>\n",
       "      <td>0.0</td>\n",
       "      <td>[25.44, 0.08668, 0.1199, 0.2037, 0.07751]</td>\n",
       "      <td>[39.0, 6.0]</td>\n",
       "      <td>[0.866666666667, 0.133333333333]</td>\n",
       "      <td>0.0</td>\n",
       "      <td>0</td>\n",
       "      <td>1</td>\n",
       "      <td>0</td>\n",
       "      <td>0</td>\n",
       "    </tr>\n",
       "    <tr>\n",
       "      <th>1</th>\n",
       "      <td>B</td>\n",
       "      <td>7.729</td>\n",
       "      <td>25.49</td>\n",
       "      <td>47.98</td>\n",
       "      <td>178.8</td>\n",
       "      <td>0.08098</td>\n",
       "      <td>0.04878</td>\n",
       "      <td>0.00000</td>\n",
       "      <td>0.00000</td>\n",
       "      <td>0.1870</td>\n",
       "      <td>0.07285</td>\n",
       "      <td>0.0</td>\n",
       "      <td>[25.49, 0.08098, 0.04878, 0.187, 0.07285]</td>\n",
       "      <td>[45.0, 0.0]</td>\n",
       "      <td>[1.0, 0.0]</td>\n",
       "      <td>0.0</td>\n",
       "      <td>0</td>\n",
       "      <td>1</td>\n",
       "      <td>0</td>\n",
       "      <td>0</td>\n",
       "    </tr>\n",
       "    <tr>\n",
       "      <th>2</th>\n",
       "      <td>B</td>\n",
       "      <td>7.760</td>\n",
       "      <td>24.54</td>\n",
       "      <td>47.92</td>\n",
       "      <td>181.0</td>\n",
       "      <td>0.05263</td>\n",
       "      <td>0.04362</td>\n",
       "      <td>0.00000</td>\n",
       "      <td>0.00000</td>\n",
       "      <td>0.1587</td>\n",
       "      <td>0.05884</td>\n",
       "      <td>0.0</td>\n",
       "      <td>[24.54, 0.05263, 0.04362, 0.1587, 0.05884]</td>\n",
       "      <td>[45.0, 0.0]</td>\n",
       "      <td>[1.0, 0.0]</td>\n",
       "      <td>0.0</td>\n",
       "      <td>0</td>\n",
       "      <td>1</td>\n",
       "      <td>0</td>\n",
       "      <td>0</td>\n",
       "    </tr>\n",
       "  </tbody>\n",
       "</table>\n",
       "</div>"
      ],
      "text/plain": [
       "  diagnosis  radius_mean  texture_mean  perimeter_mean  area_mean  \\\n",
       "0         B        7.691         25.44           48.34      170.4   \n",
       "1         B        7.729         25.49           47.98      178.8   \n",
       "2         B        7.760         24.54           47.92      181.0   \n",
       "\n",
       "   smoothness_mean  compactness_mean  concavity_mean  concave points_mean  \\\n",
       "0          0.08668           0.11990         0.09252              0.01364   \n",
       "1          0.08098           0.04878         0.00000              0.00000   \n",
       "2          0.05263           0.04362         0.00000              0.00000   \n",
       "\n",
       "   symmetry_mean  fractal_dimension_mean  label  \\\n",
       "0         0.2037                 0.07751    0.0   \n",
       "1         0.1870                 0.07285    0.0   \n",
       "2         0.1587                 0.05884    0.0   \n",
       "\n",
       "                                     features rawPrediction  \\\n",
       "0   [25.44, 0.08668, 0.1199, 0.2037, 0.07751]   [39.0, 6.0]   \n",
       "1   [25.49, 0.08098, 0.04878, 0.187, 0.07285]   [45.0, 0.0]   \n",
       "2  [24.54, 0.05263, 0.04362, 0.1587, 0.05884]   [45.0, 0.0]   \n",
       "\n",
       "                        probability  prediction  TP  TN  FP  FN  \n",
       "0  [0.866666666667, 0.133333333333]         0.0   0   1   0   0  \n",
       "1                        [1.0, 0.0]         0.0   0   1   0   0  \n",
       "2                        [1.0, 0.0]         0.0   0   1   0   0  "
      ]
     },
     "execution_count": 15,
     "metadata": {},
     "output_type": "execute_result"
    },
    {
     "name": "stdout",
     "output_type": "stream",
     "text": [
      "training set: precision = 0.993976, recall = 0.982143, F1 score = 0.988024\n"
     ]
    }
   ],
   "source": [
    "#run the training data through the pipeline, and then convert the prediction column\n",
    "#based on the prediction_udf\n",
    "train_results = best_model.transform(data_train)\n",
    "train_results = train_results.withColumn('prediction', prediction_udf(train_results.probability))\n",
    "\n",
    "#calculate the TP, TN, FP, FN as new columns\n",
    "train_results = train_results.withColumn('TP', TP_udf(array('label', 'prediction'))) \\\n",
    "                             .withColumn('TN', TN_udf(array('label', 'prediction'))) \\\n",
    "                             .withColumn('FP', FP_udf(array('label', 'prediction'))) \\\n",
    "                             .withColumn('FN', FN_udf(array('label', 'prediction')))\n",
    "train_results.limit(3).toPandas()\n",
    "\n",
    "#get the counts of TP, FN, FP\n",
    "TP_count = train_results.agg(sum(train_results.TP).alias('sum')).collect()[0].sum\n",
    "FN_count = train_results.agg(sum(train_results.FN).alias('sum')).collect()[0].sum\n",
    "FP_count = train_results.agg(sum(train_results.FP).alias('sum')).collect()[0].sum\n",
    "\n",
    "#calculate precision, recall, and F1 score\n",
    "precision = TP_count/float(TP_count + FP_count)\n",
    "recall = TP_count/float(TP_count + FN_count)\n",
    "F1_score = 2*precision*recall/(precision + recall)\n",
    "\n",
    "print ('training set: precision = %f, recall = %f, F1 score = %f') % (precision, recall, F1_score)"
   ]
  },
  {
   "cell_type": "markdown",
   "metadata": {},
   "source": [
    "Ok, the results are pretty good. But let's take a minute to think about the problem we're trying to solve. We're trying to identify tumors as either benign or malignant. If we claim a tumor to be benign, but it's actually malignant, that could be a deadly mistake. So we'd like to impose the requirement of being very confident it's benign to report benign. This equates to setting the threshold for our prediction to a higher value, say 0.75.  \n",
    "\n",
    "How do we actually pick the right probability threshold? We can look at the precision and recall. In our case, we want a high recall and low precision. We can adjust our probability threshold until we see an increase in recall and a decrease in precision. Let's repeat the above process with a threshold value of 0.75."
   ]
  },
  {
   "cell_type": "code",
   "execution_count": 28,
   "metadata": {
    "collapsed": false
   },
   "outputs": [
    {
     "name": "stdout",
     "output_type": "stream",
     "text": [
      "training set: precision = 0.908108, recall = 1.000000, F1 score = 0.951841\n"
     ]
    }
   ],
   "source": [
    "#redefine our UDF for a probability threshold of 0.75\n",
    "prob_thresh = 0.75\n",
    "prediction_udf = udf(lambda vector: float(0. if vector[0] > prob_thresh else 1.), FloatType())\n",
    "\n",
    "#run the training data through the pipeline, and then convert the prediction column\n",
    "#based on the prediction_udf\n",
    "train_results = best_model.transform(data_train)\n",
    "train_results = train_results.withColumn('prediction', prediction_udf(train_results.probability))\n",
    "\n",
    "#calculate the TP, TN, FP, FN as new columns\n",
    "train_results = train_results.withColumn('TP', TP_udf(array('label', 'prediction'))) \\\n",
    "                             .withColumn('TN', TN_udf(array('label', 'prediction'))) \\\n",
    "                             .withColumn('FP', FP_udf(array('label', 'prediction'))) \\\n",
    "                             .withColumn('FN', FN_udf(array('label', 'prediction')))\n",
    "\n",
    "#get the counts of TP, FN, FP\n",
    "TP_count = train_results.agg(sum(train_results.TP).alias('sum')).collect()[0].sum\n",
    "FN_count = train_results.agg(sum(train_results.FN).alias('sum')).collect()[0].sum\n",
    "FP_count = train_results.agg(sum(train_results.FP).alias('sum')).collect()[0].sum\n",
    "\n",
    "#calculate precision, recall, and F1 score\n",
    "precision = TP_count/float(TP_count + FP_count)\n",
    "recall = TP_count/float(TP_count + FN_count)\n",
    "F1_score = 2*precision*recall/(precision + recall)\n",
    "\n",
    "print ('training set: precision = %f, recall = %f, F1 score = %f') % (precision, recall, F1_score)"
   ]
  },
  {
   "cell_type": "markdown",
   "metadata": {},
   "source": [
    "We now have 100% recall, and have dropped our precision to about 90%. Of course, there is a tradeoff. The overall accuracy, indicated by the F1 score, has dropped. But that's acceptable in this context, because we want to be on the safer side.  \n",
    "\n",
    "Let's run the analysis on the validation data now."
   ]
  },
  {
   "cell_type": "code",
   "execution_count": 29,
   "metadata": {
    "collapsed": false
   },
   "outputs": [
    {
     "data": {
      "text/html": [
       "<div>\n",
       "<table border=\"1\" class=\"dataframe\">\n",
       "  <thead>\n",
       "    <tr style=\"text-align: right;\">\n",
       "      <th></th>\n",
       "      <th>diagnosis</th>\n",
       "      <th>radius_mean</th>\n",
       "      <th>texture_mean</th>\n",
       "      <th>perimeter_mean</th>\n",
       "      <th>area_mean</th>\n",
       "      <th>smoothness_mean</th>\n",
       "      <th>compactness_mean</th>\n",
       "      <th>concavity_mean</th>\n",
       "      <th>concave points_mean</th>\n",
       "      <th>symmetry_mean</th>\n",
       "      <th>fractal_dimension_mean</th>\n",
       "      <th>label</th>\n",
       "      <th>features</th>\n",
       "      <th>rawPrediction</th>\n",
       "      <th>probability</th>\n",
       "      <th>prediction</th>\n",
       "      <th>TP</th>\n",
       "      <th>TN</th>\n",
       "      <th>FP</th>\n",
       "      <th>FN</th>\n",
       "    </tr>\n",
       "  </thead>\n",
       "  <tbody>\n",
       "    <tr>\n",
       "      <th>0</th>\n",
       "      <td>B</td>\n",
       "      <td>6.981</td>\n",
       "      <td>13.43</td>\n",
       "      <td>43.79</td>\n",
       "      <td>143.5</td>\n",
       "      <td>0.11700</td>\n",
       "      <td>0.07568</td>\n",
       "      <td>0.000000</td>\n",
       "      <td>0.000000</td>\n",
       "      <td>0.1930</td>\n",
       "      <td>0.07818</td>\n",
       "      <td>0.0</td>\n",
       "      <td>[13.43, 0.117, 0.07568, 0.193, 0.07818]</td>\n",
       "      <td>[45.0, 0.0]</td>\n",
       "      <td>[1.0, 0.0]</td>\n",
       "      <td>0.0</td>\n",
       "      <td>0</td>\n",
       "      <td>1</td>\n",
       "      <td>0</td>\n",
       "      <td>0</td>\n",
       "    </tr>\n",
       "    <tr>\n",
       "      <th>1</th>\n",
       "      <td>B</td>\n",
       "      <td>8.878</td>\n",
       "      <td>15.49</td>\n",
       "      <td>56.74</td>\n",
       "      <td>241.0</td>\n",
       "      <td>0.08293</td>\n",
       "      <td>0.07698</td>\n",
       "      <td>0.047210</td>\n",
       "      <td>0.023810</td>\n",
       "      <td>0.1930</td>\n",
       "      <td>0.06621</td>\n",
       "      <td>0.0</td>\n",
       "      <td>[15.49, 0.08293, 0.07698, 0.193, 0.06621]</td>\n",
       "      <td>[45.0, 0.0]</td>\n",
       "      <td>[1.0, 0.0]</td>\n",
       "      <td>0.0</td>\n",
       "      <td>0</td>\n",
       "      <td>1</td>\n",
       "      <td>0</td>\n",
       "      <td>0</td>\n",
       "    </tr>\n",
       "    <tr>\n",
       "      <th>2</th>\n",
       "      <td>B</td>\n",
       "      <td>9.000</td>\n",
       "      <td>14.40</td>\n",
       "      <td>56.36</td>\n",
       "      <td>246.3</td>\n",
       "      <td>0.07005</td>\n",
       "      <td>0.03116</td>\n",
       "      <td>0.003681</td>\n",
       "      <td>0.003472</td>\n",
       "      <td>0.1788</td>\n",
       "      <td>0.06833</td>\n",
       "      <td>0.0</td>\n",
       "      <td>[14.4, 0.07005, 0.03116, 0.1788, 0.06833]</td>\n",
       "      <td>[45.0, 0.0]</td>\n",
       "      <td>[1.0, 0.0]</td>\n",
       "      <td>0.0</td>\n",
       "      <td>0</td>\n",
       "      <td>1</td>\n",
       "      <td>0</td>\n",
       "      <td>0</td>\n",
       "    </tr>\n",
       "  </tbody>\n",
       "</table>\n",
       "</div>"
      ],
      "text/plain": [
       "  diagnosis  radius_mean  texture_mean  perimeter_mean  area_mean  \\\n",
       "0         B        6.981         13.43           43.79      143.5   \n",
       "1         B        8.878         15.49           56.74      241.0   \n",
       "2         B        9.000         14.40           56.36      246.3   \n",
       "\n",
       "   smoothness_mean  compactness_mean  concavity_mean  concave points_mean  \\\n",
       "0          0.11700           0.07568        0.000000             0.000000   \n",
       "1          0.08293           0.07698        0.047210             0.023810   \n",
       "2          0.07005           0.03116        0.003681             0.003472   \n",
       "\n",
       "   symmetry_mean  fractal_dimension_mean  label  \\\n",
       "0         0.1930                 0.07818    0.0   \n",
       "1         0.1930                 0.06621    0.0   \n",
       "2         0.1788                 0.06833    0.0   \n",
       "\n",
       "                                    features rawPrediction probability  \\\n",
       "0    [13.43, 0.117, 0.07568, 0.193, 0.07818]   [45.0, 0.0]  [1.0, 0.0]   \n",
       "1  [15.49, 0.08293, 0.07698, 0.193, 0.06621]   [45.0, 0.0]  [1.0, 0.0]   \n",
       "2  [14.4, 0.07005, 0.03116, 0.1788, 0.06833]   [45.0, 0.0]  [1.0, 0.0]   \n",
       "\n",
       "   prediction  TP  TN  FP  FN  \n",
       "0         0.0   0   1   0   0  \n",
       "1         0.0   0   1   0   0  \n",
       "2         0.0   0   1   0   0  "
      ]
     },
     "execution_count": 29,
     "metadata": {},
     "output_type": "execute_result"
    },
    {
     "name": "stdout",
     "output_type": "stream",
     "text": [
      "training set: precision = 0.741379, recall = 0.977273, F1 score = 0.843137\n"
     ]
    }
   ],
   "source": [
    "#run the validation data through the pipeline, and then convert the prediction column\n",
    "#based on the prediction_udf\n",
    "val_results = best_model.transform(data_val)\n",
    "val_results = val_results.withColumn('prediction', prediction_udf(val_results.probability))\n",
    "\n",
    "#calculate the TP, TN, FP, FN as new columns\n",
    "val_results = val_results.withColumn('TP', TP_udf(array('label', 'prediction'))) \\\n",
    "                         .withColumn('TN', TN_udf(array('label', 'prediction'))) \\\n",
    "                         .withColumn('FP', FP_udf(array('label', 'prediction'))) \\\n",
    "                         .withColumn('FN', FN_udf(array('label', 'prediction')))\n",
    "val_results.limit(3).toPandas()\n",
    "\n",
    "#get the counts of TP, FN, FP\n",
    "TP_count = val_results.agg(sum(val_results.TP).alias('sum')).collect()[0].sum\n",
    "FN_count = val_results.agg(sum(val_results.FN).alias('sum')).collect()[0].sum\n",
    "FP_count = val_results.agg(sum(val_results.FP).alias('sum')).collect()[0].sum\n",
    "\n",
    "#calculate precision and recall\n",
    "precision = TP_count/float(TP_count + FP_count)\n",
    "recall = TP_count/float(TP_count + FN_count)\n",
    "F1_score = 2*precision*recall/(precision + recall)\n",
    "\n",
    "print ('training set: precision = %f, recall = %f, F1 score = %f') % (precision, recall, F1_score)"
   ]
  },
  {
   "cell_type": "markdown",
   "metadata": {},
   "source": [
    "The recall remains high on the validation data, so this is good. Whenver we get new data that we want to evaluate, we can now simply apply the best model to it and get the results. You can save the best model here and load it at any later time."
   ]
  },
  {
   "cell_type": "code",
   "execution_count": 30,
   "metadata": {
    "collapsed": false
   },
   "outputs": [],
   "source": [
    "#note that the below save function creates a folder called \"best_model_cancer\". if you call \"save\" again, you need\n",
    "#to first delete that folder.\n",
    "best_model.save('best_model_cancer')\n",
    "loaded_best_model = PipelineModel.load('best_model_cancer')"
   ]
  }
 ],
 "metadata": {
  "kernelspec": {
   "display_name": "Python 2",
   "language": "python",
   "name": "python2"
  },
  "language_info": {
   "codemirror_mode": {
    "name": "ipython",
    "version": 2
   },
   "file_extension": ".py",
   "mimetype": "text/x-python",
   "name": "python",
   "nbconvert_exporter": "python",
   "pygments_lexer": "ipython2",
   "version": "2.7.13"
  }
 },
 "nbformat": 4,
 "nbformat_minor": 2
}
